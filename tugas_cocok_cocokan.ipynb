{
  "nbformat": 4,
  "nbformat_minor": 0,
  "metadata": {
    "colab": {
      "provenance": [],
      "authorship_tag": "ABX9TyPLb6SLJL9yBO2scpOqkXfm",
      "include_colab_link": true
    },
    "kernelspec": {
      "name": "python3",
      "display_name": "Python 3"
    },
    "language_info": {
      "name": "python"
    }
  },
  "cells": [
    {
      "cell_type": "markdown",
      "metadata": {
        "id": "view-in-github",
        "colab_type": "text"
      },
      "source": [
        "<a href=\"https://colab.research.google.com/github/regan-ali-ramadhan/Kumpul_tugas/blob/main/tugas_cocok_cocokan.ipynb\" target=\"_parent\"><img src=\"https://colab.research.google.com/assets/colab-badge.svg\" alt=\"Open In Colab\"/></a>"
      ]
    },
    {
      "cell_type": "markdown",
      "source": [
        "Materi tentang variable"
      ],
      "metadata": {
        "id": "6qFkaoRYwtO7"
      }
    },
    {
      "cell_type": "code",
      "execution_count": null,
      "metadata": {
        "id": "b-B1ZeaOwp5G"
      },
      "outputs": [],
      "source": [
        "# contoh variable\n",
        "\n",
        "x = 5 # x bertipe int\n",
        "y = \"Jhon\" # x sekarang bertipe str\n",
        "print(x)\n",
        "print(y)"
      ]
    },
    {
      "cell_type": "markdown",
      "source": [
        "variable menggunakan casting"
      ],
      "metadata": {
        "id": "W5Zj2ZAiyjc4"
      }
    },
    {
      "cell_type": "code",
      "source": [
        "x = str(9)\n",
        "y = int(5)\n",
        "z = float(2)\n",
        "print(x)\n",
        "print(y)\n",
        "print(z)"
      ],
      "metadata": {
        "colab": {
          "base_uri": "https://localhost:8080/"
        },
        "id": "0IBBT_NWyo2L",
        "outputId": "902010a0-158e-4c5f-b16f-02633a8857a5"
      },
      "execution_count": 3,
      "outputs": [
        {
          "output_type": "stream",
          "name": "stdout",
          "text": [
            "9\n",
            "5\n",
            "2.0\n"
          ]
        }
      ]
    },
    {
      "cell_type": "code",
      "source": [
        "x = \"akmal imut\"\n",
        "# is the same as\n",
        "y = 'iman imut'\n",
        "print(x)\n",
        "print(y)"
      ],
      "metadata": {
        "colab": {
          "base_uri": "https://localhost:8080/"
        },
        "id": "x7Pk6KV0y1Us",
        "outputId": "e7bd9a74-9d5b-4268-c7b9-aa9088cd09ae"
      },
      "execution_count": 4,
      "outputs": [
        {
          "output_type": "stream",
          "name": "stdout",
          "text": [
            "akmal imut\n",
            "iman imut\n"
          ]
        }
      ]
    },
    {
      "cell_type": "code",
      "source": [
        "#program studi kasus kecocokan berteman\n",
        "\n",
        "a = input (\"masukan nama teman pertama :\")\n",
        "b = input (\"masukan nama teman kedua :\")\n",
        "\n",
        "print (\"berdasarkan hasil survei :\" ,a ,\" dan \" ,b ,\" adalah teman yang cocok\")\n",
        "\n",
        ""
      ],
      "metadata": {
        "colab": {
          "base_uri": "https://localhost:8080/"
        },
        "id": "Os1YxVxb0APZ",
        "outputId": "332c2596-41d8-4778-d938-d27f7e6ed47a"
      },
      "execution_count": 6,
      "outputs": [
        {
          "output_type": "stream",
          "name": "stdout",
          "text": [
            "masukan nama teman pertama :prabowo\n",
            "masukan nama teman kedua :gibran\n",
            "berdasarkan hasil survei : prabowo  dan  gibran  adalah teman yang cocok\n"
          ]
        }
      ]
    },
    {
      "cell_type": "code",
      "source": [
        "#studi kasus aplikasi horoscrop\n",
        "\n",
        "a = input (\"masukan pasangan 1 : \")\n",
        "b = input (\"masukan pasangan 2 : \")\n",
        "\n",
        "print (\" hasil survei antara pasangan\", a,  \"dan pasangan\", b, \"adalah pasangan yang cocok\")\n",
        "\n",
        ""
      ],
      "metadata": {
        "colab": {
          "base_uri": "https://localhost:8080/"
        },
        "id": "ux3odb7v0wDz",
        "outputId": "ea011d9b-046b-4390-8b3b-71a5c9aee719"
      },
      "execution_count": 7,
      "outputs": [
        {
          "output_type": "stream",
          "name": "stdout",
          "text": [
            "masukan pasangan 1 : bunga\n",
            "masukan pasangan 2 : mawar\n",
            " hasil survei antara pasangan bunga dan pasangan mawar adalah pasangan yang cocok\n"
          ]
        }
      ]
    },
    {
      "cell_type": "code",
      "source": [
        "#studi kasus pembagian apel untuk dua orang teman di acara candy day\n",
        "a = 500\n",
        "b = input (\"masukan nama teman pertama :\")\n",
        "c = input (\"masukan nama teman kedua :\")\n",
        "d = int(a) / 2\n",
        "print (b,\"mendapatkan permen sebanyak\", d, \"buah. Dan si\", c,\"mendapatkan permen sebanyak\", d)\n",
        ""
      ],
      "metadata": {
        "colab": {
          "base_uri": "https://localhost:8080/"
        },
        "id": "Y8hkMhtG1TGI",
        "outputId": "f588648e-348d-40e4-fbd1-fb7a42aa2b87"
      },
      "execution_count": 8,
      "outputs": [
        {
          "output_type": "stream",
          "name": "stdout",
          "text": [
            "masukan nama teman pertama :ma'ruf\n",
            "masukan nama teman kedua :amin\n",
            "ma'ruf mendapatkan permen sebanyak 250.0 buah. Dan si amin mendapatkan permen sebanyak 250.0\n"
          ]
        }
      ]
    }
  ]
}