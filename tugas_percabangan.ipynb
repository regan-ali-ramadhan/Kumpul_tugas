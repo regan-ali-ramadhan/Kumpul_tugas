{
  "nbformat": 4,
  "nbformat_minor": 0,
  "metadata": {
    "colab": {
      "provenance": [],
      "toc_visible": true,
      "authorship_tag": "ABX9TyN56+pskuC2mArkiLQlbT/p",
      "include_colab_link": true
    },
    "kernelspec": {
      "name": "python3",
      "display_name": "Python 3"
    },
    "language_info": {
      "name": "python"
    }
  },
  "cells": [
    {
      "cell_type": "markdown",
      "metadata": {
        "id": "view-in-github",
        "colab_type": "text"
      },
      "source": [
        "<a href=\"https://colab.research.google.com/github/regan-ali-ramadhan/Kumpul_tugas/blob/main/tugas_percabangan.ipynb\" target=\"_parent\"><img src=\"https://colab.research.google.com/assets/colab-badge.svg\" alt=\"Open In Colab\"/></a>"
      ]
    },
    {
      "cell_type": "markdown",
      "source": [
        "# Penentuan Diskon Berdasarkan Jumlah Pembelian"
      ],
      "metadata": {
        "id": "9stUX3QWg2Od"
      }
    },
    {
      "cell_type": "code",
      "execution_count": 21,
      "metadata": {
        "colab": {
          "base_uri": "https://localhost:8080/"
        },
        "id": "Mbw_SvXXgKLI",
        "outputId": "9a4f9277-e916-447a-ed11-b85ffd662606"
      },
      "outputs": [
        {
          "output_type": "stream",
          "name": "stdout",
          "text": [
            "masukan jumlah pembelian: 900.000\n",
            "diskon 20%\n"
          ]
        }
      ],
      "source": [
        "jumlah_pembelian = float(input(\"masukan jumlah pembelian: \"))\n",
        "if jumlah_pembelian < 100.000:\n",
        "    print(\"tidak ada diskon\")\n",
        "elif jumlah_pembelian >= 100.000 and jumlah_pembelian <= 500.000:\n",
        "    print(\"diskon 10%\")\n",
        "elif jumlah_pembelian >= 500.000:\n",
        "  print(\"diskon 20%\")\n",
        "else :\n",
        "  print(\"Harga setelah diskon:\")"
      ]
    },
    {
      "cell_type": "markdown",
      "source": [
        "# KLasifikasi Umur"
      ],
      "metadata": {
        "id": "rLTjmKDuqGlF"
      }
    },
    {
      "cell_type": "code",
      "source": [
        "umur = int(input(\"masukan umur: \"))\n",
        "if umur < 12 :\n",
        "  print(\"anak anak\")\n",
        "elif umur <= 17 :\n",
        "  print(\"remaja\")\n",
        "elif umur <= 64 :\n",
        "  print(\"dewasa\")\n",
        "else :\n",
        "  print(\"lansia\")"
      ],
      "metadata": {
        "colab": {
          "base_uri": "https://localhost:8080/"
        },
        "id": "hAOqiMSdqfqk",
        "outputId": "672512cd-9281-4dce-e73a-206faedaef54"
      },
      "execution_count": 35,
      "outputs": [
        {
          "output_type": "stream",
          "name": "stdout",
          "text": [
            "masukan umur: 1945\n",
            "lansia\n"
          ]
        }
      ]
    },
    {
      "cell_type": "markdown",
      "source": [
        "# Penilaian nilai siswa"
      ],
      "metadata": {
        "id": "CJk-8FF1sjRa"
      }
    },
    {
      "cell_type": "code",
      "source": [
        "nilai = int(input(\"masukan nilai siswa: \"))\n",
        "if nilai >= 90 :\n",
        "  print(\"sangat baik\")\n",
        "elif nilai >= 70 :\n",
        "  print(\"baik\")\n",
        "elif nilai >= 50 :\n",
        "  print(\"cukup\")\n",
        "else :\n",
        "  print(\"buruk\")"
      ],
      "metadata": {
        "colab": {
          "base_uri": "https://localhost:8080/"
        },
        "id": "-_a4vDMXspT5",
        "outputId": "7bffb951-c3f3-4f24-fc85-c2a921b745df"
      },
      "execution_count": 37,
      "outputs": [
        {
          "output_type": "stream",
          "name": "stdout",
          "text": [
            "masukan nilai siswa: 39\n",
            "buruk\n"
          ]
        }
      ]
    },
    {
      "cell_type": "markdown",
      "source": [
        "# Pengecekan Tahun Kabisat"
      ],
      "metadata": {
        "id": "n-Sb7tYht6fD"
      }
    },
    {
      "cell_type": "code",
      "source": [
        "a = int(input(\"masukan tahun : \"))\n",
        "if a % 4 == 0 :\n",
        " if a % 100 == 0 :\n",
        "  if a % 400 == 0 :\n",
        "    print(\"tahun kabisat\")\n",
        "else :\n",
        "    print(\"bukan tahun kabisat\")"
      ],
      "metadata": {
        "colab": {
          "base_uri": "https://localhost:8080/"
        },
        "id": "fpgZk_P8uRG2",
        "outputId": "8aebdf2e-7a02-4dc5-c6f9-34be8d6ed170"
      },
      "execution_count": 42,
      "outputs": [
        {
          "output_type": "stream",
          "name": "stdout",
          "text": [
            "masukan tahun : 1945\n",
            "bukan tahun kabisat\n"
          ]
        }
      ]
    },
    {
      "cell_type": "markdown",
      "source": [
        "# Kalkulator Sederhana"
      ],
      "metadata": {
        "id": "A7LJ42SiwTBd"
      }
    },
    {
      "cell_type": "code",
      "source": [
        "a = int(input(\"Masukkan angka pertama: \"))\n",
        "b = int(input(\"Masukkan angka kedua: \"))\n",
        "c = input(\"Masukkan operasi: \")\n",
        "if c == \"+\":\n",
        "  print(a+b)\n",
        "elif c == \"-\":\n",
        "  print(a-b)\n",
        "elif c == \"*\":\n",
        "  print(a*b)\n",
        "elif c == \"/\":\n",
        "  print(a/b)\n",
        "else:\n",
        "  print(\"operasi tidak valid\")"
      ],
      "metadata": {
        "colab": {
          "base_uri": "https://localhost:8080/"
        },
        "id": "8S7vII0Awcrq",
        "outputId": "0ff3f415-d8ed-4b48-fd73-33863c2ffde8"
      },
      "execution_count": 53,
      "outputs": [
        {
          "output_type": "stream",
          "name": "stdout",
          "text": [
            "Masukkan angka pertama: 1012\n",
            "Masukkan angka kedua: 2\n",
            "Masukkan operasi: *\n",
            "2024\n"
          ]
        }
      ]
    }
  ]
}